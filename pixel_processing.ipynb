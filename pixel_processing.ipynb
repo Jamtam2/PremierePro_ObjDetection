{
 "cells": [
  {
   "cell_type": "code",
   "execution_count": null,
   "metadata": {},
   "outputs": [],
   "source": [
    "%pip install --upgrade numpy\n"
   ]
  },
  {
   "cell_type": "code",
   "execution_count": null,
   "metadata": {},
   "outputs": [],
   "source": [
    "import math\n",
    "import numpy as np\n",
    "import matplotlib.pyplot as plt\n",
    "import re \n",
    "\n",
    "%matplotlib inline\n"
   ]
  },
  {
   "cell_type": "code",
   "execution_count": null,
   "metadata": {},
   "outputs": [],
   "source": [
    "# class Pixel: \n",
    "#     def __init__(self, B,G,R,A):\n",
    "#         self.B = B\n",
    "#         self.G = G\n",
    "#         self.R = R\n",
    "#         self.A = A\n",
    "#     def __repr__(self) -> str:\n",
    "#         return f\"{type(self).__name__}(B={self.B}, G={self.G},R={self.R},A={self.A})\""
   ]
  },
  {
   "cell_type": "code",
   "execution_count": null,
   "metadata": {},
   "outputs": [],
   "source": [
    "#read in log file \n",
    "notepad = 'MLplugin_debug.log'\n",
    "with open(notepad) as f:\n",
    "    f = f.readlines()\n",
    "\n",
    "\n"
   ]
  },
  {
   "cell_type": "code",
   "execution_count": null,
   "metadata": {},
   "outputs": [],
   "source": [
    "f"
   ]
  },
  {
   "cell_type": "code",
   "execution_count": null,
   "metadata": {},
   "outputs": [],
   "source": [
    "CURR: 13, Row: 359, Column: 497, B: 0.180392, G: 0.486275, R: 0.541176, A: 1\n"
   ]
  },
  {
   "cell_type": "code",
   "execution_count": null,
   "metadata": {},
   "outputs": [],
   "source": [
    "# Define the regex pattern to capture each line's pixel values, then make pixel obj \n",
    "pattern = r'CURR: (\\d+), Row: (\\d+), Column: (\\d+), B: (-?[\\d.]+(?:[eE][-+]?\\d+)?), G: (-?[\\d.]+(?:[eE][-+]?\\d+)?), R: (-?[\\d.]+(?:[eE][-+]?\\d+)?), A: (-?[\\d.]+(?:[eE][-+]?\\d+)?)'\n",
    "\n",
    "#Define couple of storing things;\n",
    "frames_data = {} # dict with key --> value as frame_num --> 2d array of frame's pixels\n",
    "pixels_array = [] #2d list\n",
    "row_data = [] #1d list, holds specific row of pixels\n",
    "counter = 0\n",
    "curr_row_num = -10\n",
    "curr_frame = -10\n",
    "\n",
    "row_counter = 0\n",
    "for x in f:\n",
    "    # print(x)\n",
    "    \n",
    "    matches = re.findall(pattern, x)\n",
    "    if len(matches) == 0: #if there were no matches, print; and hopefully it'll just be an empty line, and not a line that regex missed\n",
    "        print(f'no matches in this line: {x}')\n",
    "        continue\n",
    "\n",
    "    matches = matches[0]\n",
    "    \n",
    "    if curr_frame == -10:\n",
    "        curr_frame = int(matches[0])\n",
    "    if curr_row_num == -10:\n",
    "        curr_row_num = int(matches[1])\n",
    "\n",
    "#Checks if row is changed; if yes, append and reset row_data\n",
    "    if curr_row_num != int(matches[1]):\n",
    "        curr_row_num = int(matches[1])\n",
    "        pixels_array.append(row_data) \n",
    "        # print('appended row data', row_data)\n",
    "        row_counter+=1\n",
    "\n",
    "        row_data = []\n",
    "        \n",
    "    #If frame changes; we've parsed through all data; store data then reset array\n",
    "    if curr_frame != int(matches[0]):\n",
    "        print(f\"Finished parsing through {curr_frame}'s data\")\n",
    "        print(f\"Now parsing {matches[0]}'s data\")\n",
    "\n",
    "        frames_data[curr_frame] = pixels_array\n",
    "        curr_frame = int(matches[0])\n",
    "        row_counter = 0 \n",
    "        counter = 0\n",
    "\n",
    "        pixels_array = []\n",
    "\n",
    "    # puts in tuple for RGB\n",
    "    pixel = (float(matches[5]),float(matches[4]),float(matches[3]), float(matches[6])) \n",
    "\n",
    "    row_data.append(pixel)\n",
    "\n",
    "\n",
    "#appends last frame data to dict\n",
    "\n",
    "pixels_array.append(row_data)\n",
    "frames_data[curr_frame] = pixels_array\n",
    "\n",
    "\n",
    "\n",
    "\n"
   ]
  },
  {
   "cell_type": "code",
   "execution_count": null,
   "metadata": {},
   "outputs": [],
   "source": [
    "pixels_array[0][-1]"
   ]
  },
  {
   "cell_type": "code",
   "execution_count": null,
   "metadata": {},
   "outputs": [],
   "source": [
    "frames_data"
   ]
  },
  {
   "cell_type": "code",
   "execution_count": null,
   "metadata": {},
   "outputs": [],
   "source": [
    "for x in frames_data:\n",
    "    print(x)\n",
    "    "
   ]
  },
  {
   "cell_type": "code",
   "execution_count": null,
   "metadata": {},
   "outputs": [],
   "source": [
    "# frames_data[726]"
   ]
  },
  {
   "cell_type": "code",
   "execution_count": null,
   "metadata": {},
   "outputs": [],
   "source": [
    "frame_num = 13\n",
    "height = len(frames_data[frame_num])\n",
    "width = len(frames_data[frame_num][0])\n",
    "print(height,width)"
   ]
  },
  {
   "cell_type": "code",
   "execution_count": null,
   "metadata": {},
   "outputs": [],
   "source": [
    "from PIL import Image\n",
    "import numpy as np\n",
    "\n",
    "height = len(frames_data[frame_num])\n",
    "width = len(frames_data[frame_num][0])\n",
    "\n",
    "pixels = frames_data[frame_num] #2d array of tuples that include RGBA values\n",
    "# Image.new(mode = 'RGBA', size = (width,height) )\n",
    "\n",
    "pixels = np.array(pixels)  # Convert to numpy array if not already\n",
    "min_val = pixels.min()\n",
    "max_val = pixels.max()\n",
    "normalized_pixels = (pixels - min_val) / (max_val - min_val) * 255\n",
    "\n",
    "# Convert to uint8\n",
    "array = normalized_pixels.astype(np.uint8)\n",
    "\n",
    "# Ensure the array shape and dtype is correct\n",
    "height, width, _ = array.shape\n",
    "\n",
    "\n",
    "# Use PIL to create an image from the new array of pixels\n",
    "new_image = Image.fromarray(array)\n",
    "new_image.save('new.png')\n"
   ]
  },
  {
   "cell_type": "code",
   "execution_count": null,
   "metadata": {},
   "outputs": [],
   "source": [
    "new_image"
   ]
  },
  {
   "cell_type": "code",
   "execution_count": null,
   "metadata": {},
   "outputs": [],
   "source": [
    "pixel_data = frames_data[726]\n",
    "pixel_data"
   ]
  },
  {
   "cell_type": "code",
   "execution_count": null,
   "metadata": {},
   "outputs": [],
   "source": []
  }
 ],
 "metadata": {
  "kernelspec": {
   "display_name": "base",
   "language": "python",
   "name": "python3"
  },
  "language_info": {
   "codemirror_mode": {
    "name": "ipython",
    "version": 3
   },
   "file_extension": ".py",
   "mimetype": "text/x-python",
   "name": "python",
   "nbconvert_exporter": "python",
   "pygments_lexer": "ipython3",
   "version": "3.9.7"
  }
 },
 "nbformat": 4,
 "nbformat_minor": 2
}
